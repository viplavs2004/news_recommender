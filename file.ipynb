{
 "cells": [
  {
   "cell_type": "code",
   "execution_count": 1,
   "id": "26950818",
   "metadata": {},
   "outputs": [],
   "source": [
    "import pandas\n"
   ]
  },
  {
   "cell_type": "code",
   "execution_count": null,
   "id": "e2f7d668",
   "metadata": {},
   "outputs": [],
   "source": []
  },
  {
   "cell_type": "code",
   "execution_count": 7,
   "id": "c53eccf9",
   "metadata": {},
   "outputs": [
    {
     "name": "stdout",
     "output_type": "stream",
     "text": [
      "Attempting to open file: F:\\Python\\news_recommender\\news.tsv\n",
      "['N88753', 'lifestyle', 'lifestyleroyals', 'The Brands Queen Elizabeth, Prince Charles, and Prince Philip Swear By', \"Shop the notebooks, jackets, and more that the royals can't live without.\", 'https://assets.msn.com/labs/mind/AAGH0ET.html', '[{\"Label\": \"Prince Philip, Duke of Edinburgh\", \"Type\": \"P\", \"WikidataId\": \"Q80976\", \"Confidence\": 1.0, \"OccurrenceOffsets\": [48], \"SurfaceForms\": [\"Prince Philip\"]}, {\"Label\": \"Charles, Prince of Wales\", \"Type\": \"P\", \"WikidataId\": \"Q43274\", \"Confidence\": 1.0, \"OccurrenceOffsets\": [28], \"SurfaceForms\": [\"Prince Charles\"]}, {\"Label\": \"Elizabeth II\", \"Type\": \"P\", \"WikidataId\": \"Q9682\", \"Confidence\": 0.97, \"OccurrenceOffsets\": [11], \"SurfaceForms\": [\"Queen Elizabeth\"]}]', '[]']\n",
      "['N45436', 'news', 'newsscienceandtechnology', 'Walmart Slashes Prices on Last-Generation iPads', \"Apple's new iPad releases bring big deals on last year's models.\", 'https://assets.msn.com/labs/mind/AABmf2I.html', '[{\"Label\": \"IPad\", \"Type\": \"J\", \"WikidataId\": \"Q2796\", \"Confidence\": 0.999, \"OccurrenceOffsets\": [42], \"SurfaceForms\": [\"iPads\"]}, {\"Label\": \"Walmart\", \"Type\": \"O\", \"WikidataId\": \"Q483551\", \"Confidence\": 1.0, \"OccurrenceOffsets\": [0], \"SurfaceForms\": [\"Walmart\"]}]', '[{\"Label\": \"IPad\", \"Type\": \"J\", \"WikidataId\": \"Q2796\", \"Confidence\": 0.999, \"OccurrenceOffsets\": [12], \"SurfaceForms\": [\"iPad\"]}, {\"Label\": \"Apple Inc.\", \"Type\": \"O\", \"WikidataId\": \"Q312\", \"Confidence\": 0.999, \"OccurrenceOffsets\": [0], \"SurfaceForms\": [\"Apple\"]}]']\n",
      "['N23144', 'health', 'weightloss', '50 Worst Habits For Belly Fat', 'These seemingly harmless habits are holding you back and keeping you from shedding that unwanted belly fat for good.', 'https://assets.msn.com/labs/mind/AAB19MK.html', '[{\"Label\": \"Adipose tissue\", \"Type\": \"C\", \"WikidataId\": \"Q193583\", \"Confidence\": 1.0, \"OccurrenceOffsets\": [20], \"SurfaceForms\": [\"Belly Fat\"]}]', '[{\"Label\": \"Adipose tissue\", \"Type\": \"C\", \"WikidataId\": \"Q193583\", \"Confidence\": 1.0, \"OccurrenceOffsets\": [97], \"SurfaceForms\": [\"belly fat\"]}]']\n",
      "['N86255', 'health', 'medical', \"Dispose of unwanted prescription drugs during the DEA's Take Back Day\", '', 'https://assets.msn.com/labs/mind/AAISxPN.html', '[{\"Label\": \"Drug Enforcement Administration\", \"Type\": \"O\", \"WikidataId\": \"Q622899\", \"Confidence\": 0.992, \"OccurrenceOffsets\": [50], \"SurfaceForms\": [\"DEA\"]}]', '[]']\n",
      "['N93187', 'news', 'newsworld', \"The Cost of Trump's Aid Freeze in the Trenches of Ukraine's War\", 'Lt. Ivan Molchanets peeked over a parapet of sand bags at the front line of the war in Ukraine. Next to him was an empty helmet propped up to trick snipers, already perforated with multiple holes.', 'https://assets.msn.com/labs/mind/AAJgNsz.html', '[]', '[{\"Label\": \"Ukraine\", \"Type\": \"G\", \"WikidataId\": \"Q212\", \"Confidence\": 0.946, \"OccurrenceOffsets\": [87], \"SurfaceForms\": [\"Ukraine\"]}]']\n",
      "...\n"
     ]
    }
   ],
   "source": [
    "import csv\n",
    "\n",
    "# Your file path\n",
    "# Corrected the path to remove the leading space.\n",
    "file_path = 'F:\\\\Python\\\\news_recommender\\\\news.tsv'\n",
    "\n",
    "def read_tsv_file(file_path):\n",
    "    \"\"\"\n",
    "    Reads a TSV file and prints its contents, with each row as a list.\n",
    "    \"\"\"\n",
    "    print(f\"Attempting to open file: {file_path}\")\n",
    "    try:\n",
    "        # Open the file in read mode ('r')\n",
    "        # The newline='' argument is important for cross-platform compatibility\n",
    "        # when working with the csv module.\n",
    "        with open(file_path, 'r', newline='', encoding='utf-8') as tsv_file:\n",
    "            # Use csv.reader with the delimiter set to a tab character ('\\t')\n",
    "            tsv_reader = csv.reader(tsv_file, delimiter='\\t')\n",
    "            \n",
    "            # Iterate through each row in the file\n",
    "            for i, row in enumerate(tsv_reader):\n",
    "                # Print the first few rows to confirm it works\n",
    "                if i < 5:\n",
    "                    print(row)\n",
    "                elif i == 5:\n",
    "                    print(\"...\")\n",
    "                else:\n",
    "                    break\n",
    "            \n",
    "    except FileNotFoundError:\n",
    "        print(f\"Error: The file '{file_path}' was not found.\")\n",
    "    except Exception as e:\n",
    "        print(f\"An unexpected error occurred: {e}\")\n",
    "\n",
    "# Call the function with the corrected file path variable\n",
    "read_tsv_file(file_path)\n"
   ]
  }
 ],
 "metadata": {
  "kernelspec": {
   "display_name": "base",
   "language": "python",
   "name": "python3"
  },
  "language_info": {
   "codemirror_mode": {
    "name": "ipython",
    "version": 3
   },
   "file_extension": ".py",
   "mimetype": "text/x-python",
   "name": "python",
   "nbconvert_exporter": "python",
   "pygments_lexer": "ipython3",
   "version": "3.13.5"
  }
 },
 "nbformat": 4,
 "nbformat_minor": 5
}
